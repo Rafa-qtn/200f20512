{
  "nbformat": 4,
  "nbformat_minor": 0,
  "metadata": {
    "colab": {
      "provenance": [],
      "authorship_tag": "ABX9TyPeIcE3vvL5rXQVwtTJs5PW",
      "include_colab_link": true
    },
    "kernelspec": {
      "name": "python3",
      "display_name": "Python 3"
    },
    "language_info": {
      "name": "python"
    }
  },
  "cells": [
    {
      "cell_type": "markdown",
      "metadata": {
        "id": "view-in-github",
        "colab_type": "text"
      },
      "source": [
        "<a href=\"https://colab.research.google.com/github/Rafa-qtn/200f20512/blob/main/Untitled4.ipynb\" target=\"_parent\"><img src=\"https://colab.research.google.com/assets/colab-badge.svg\" alt=\"Open In Colab\"/></a>"
      ]
    },
    {
      "cell_type": "code",
      "execution_count": 1,
      "metadata": {
        "colab": {
          "base_uri": "https://localhost:8080/"
        },
        "id": "uMljFkvTO_19",
        "outputId": "eccd23eb-7cf8-48dc-f51e-ec571f9c62d9"
      },
      "outputs": [
        {
          "output_type": "stream",
          "name": "stdout",
          "text": [
            "Mounted at /content/drive\n"
          ]
        }
      ],
      "source": [
        "#My dataset is available in googledrive; so I am accessing my drive from colab\n",
        "from google.colab import drive\n",
        "drive.mount('/content/drive', force_remount=True)\n",
        "#Once this is executed, you will see your drive appearing on the left hand side"
      ]
    },
    {
      "cell_type": "code",
      "source": [
        "# Define paths to the dataset\n",
        "train_dir = '/content/drive/MyDrive/R/archive/training_data'  # Update with your actual path\n",
        "test_dir = '/content/drive/MyDrive/R/archive/testing_data'    # Update with your actual path"
      ],
      "metadata": {
        "id": "boxG57OePvI-"
      },
      "execution_count": 3,
      "outputs": []
    },
    {
      "cell_type": "code",
      "source": [
        "import os\n",
        "print(len(os.listdir('/content/drive/MyDrive/R/archive/training_data/fire_images')))\n",
        "print(len(os.listdir('/content/drive/MyDrive/R/archive/training_data/non_fire_images')))\n",
        "print(len(os.listdir('/content/drive/MyDrive/R/archive/testing_data/fire_images')))\n",
        "print(len(os.listdir('/content/drive/MyDrive/R/archive/testing_data/non_fire_images')))"
      ],
      "metadata": {
        "colab": {
          "base_uri": "https://localhost:8080/"
        },
        "id": "2o2_XOOYaZPt",
        "outputId": "f38af68d-3094-4f95-b54c-c85778865ecc"
      },
      "execution_count": 4,
      "outputs": [
        {
          "output_type": "stream",
          "name": "stdout",
          "text": [
            "650\n",
            "210\n",
            "105\n",
            "34\n"
          ]
        }
      ]
    },
    {
      "cell_type": "code",
      "source": [
        "import tensorflow as tf\n",
        "from tensorflow.keras.preprocessing.image import ImageDataGenerator\n",
        "\n",
        "# Create ImageDataGenerator for training set\n",
        "train_datagen = ImageDataGenerator(\n",
        "    rescale=1./255,\n",
        "    validation_split=0.2  # Split 20% of the images for validation\n",
        ")\n",
        "\n",
        "# Load and prepare training data\n",
        "train_data = train_datagen.flow_from_directory(\n",
        "    train_dir,\n",
        "    target_size=(256,256),\n",
        "    batch_size=32,\n",
        "    class_mode='binary',  # 'binary' for binary classification (cats vs. dogs)\n",
        "    subset='training'  # Specify 'training' for the training set\n",
        ")\n",
        "\n",
        "# Create ImageDataGenerator for validation set\n",
        "validation_datagen = ImageDataGenerator(\n",
        "    rescale=1./255,\n",
        "    validation_split=0.2  # Note: Using the same validation split as in the training set\n",
        ")\n",
        "\n",
        "# Load and prepare validation data\n",
        "validation_data = validation_datagen.flow_from_directory(\n",
        "    train_dir,\n",
        "    target_size=(256,256),\n",
        "    batch_size=32,\n",
        "    class_mode='binary',\n",
        "    subset='validation'  # Specify 'validation' for the validation set\n",
        ")"
      ],
      "metadata": {
        "colab": {
          "base_uri": "https://localhost:8080/"
        },
        "id": "HdpIqxkwa3VQ",
        "outputId": "42d3590b-e2be-4610-b31e-7aee6fefcecd"
      },
      "execution_count": 5,
      "outputs": [
        {
          "output_type": "stream",
          "name": "stdout",
          "text": [
            "Found 688 images belonging to 2 classes.\n",
            "Found 172 images belonging to 2 classes.\n"
          ]
        }
      ]
    },
    {
      "cell_type": "code",
      "source": [
        "from tensorflow import keras\n",
        "from keras import Sequential\n",
        "from keras.layers import Dense,Conv2D,MaxPooling2D,Flatten\n",
        "\n",
        "resnet_model = Sequential()    #ResNet50 is a pre-trained model\n",
        "pretrained_model = tf.keras.applications.ResNet50(include_top = False, #because i have my own image of a diff dimension\n",
        "                                                input_shape = (256,256,3),\n",
        "                                                pooling = 'max', classes = 2,\n",
        "                                                weights = 'imagenet')\n",
        "for layer in pretrained_model.layers:\n",
        "    layer.trainable = False  #all layers in the Resnet50 is not trainable; keep those weights; I am going to add my own i/p and other layers\n",
        "\n",
        "resnet_model.add(pretrained_model)\n",
        "resnet_model.add(Flatten())\n",
        "resnet_model.add(Dense(512, activation = 'relu'))\n",
        "resnet_model.add(Dense(1, activation = 'sigmoid'))"
      ],
      "metadata": {
        "colab": {
          "base_uri": "https://localhost:8080/"
        },
        "id": "CyLDg_ZZbAha",
        "outputId": "510dec7f-0433-4193-dce2-e0973e76949d"
      },
      "execution_count": 6,
      "outputs": [
        {
          "output_type": "stream",
          "name": "stdout",
          "text": [
            "Downloading data from https://storage.googleapis.com/tensorflow/keras-applications/resnet/resnet50_weights_tf_dim_ordering_tf_kernels_notop.h5\n",
            "94765736/94765736 [==============================] - 0s 0us/step\n"
          ]
        }
      ]
    },
    {
      "cell_type": "code",
      "source": [
        "resnet_model.summary()"
      ],
      "metadata": {
        "colab": {
          "base_uri": "https://localhost:8080/"
        },
        "id": "HMXaOxmHbI2u",
        "outputId": "1cd10bda-fc30-42c4-e4bb-9164431177a5"
      },
      "execution_count": 7,
      "outputs": [
        {
          "output_type": "stream",
          "name": "stdout",
          "text": [
            "Model: \"sequential\"\n",
            "_________________________________________________________________\n",
            " Layer (type)                Output Shape              Param #   \n",
            "=================================================================\n",
            " resnet50 (Functional)       (None, 2048)              23587712  \n",
            "                                                                 \n",
            " flatten (Flatten)           (None, 2048)              0         \n",
            "                                                                 \n",
            " dense (Dense)               (None, 512)               1049088   \n",
            "                                                                 \n",
            " dense_1 (Dense)             (None, 1)                 513       \n",
            "                                                                 \n",
            "=================================================================\n",
            "Total params: 24637313 (93.98 MB)\n",
            "Trainable params: 1049601 (4.00 MB)\n",
            "Non-trainable params: 23587712 (89.98 MB)\n",
            "_________________________________________________________________\n"
          ]
        }
      ]
    },
    {
      "cell_type": "code",
      "source": [
        "from keras.optimizers import Adam\n",
        "resnet_model.compile(optimizer=Adam(learning_rate=0.001),loss='binary_crossentropy',metrics=['accuracy']) #binary_crossentropy - binary classification"
      ],
      "metadata": {
        "id": "MkBOsEZtbQSU"
      },
      "execution_count": 8,
      "outputs": []
    },
    {
      "cell_type": "code",
      "source": [
        "history = resnet_model.fit(train_data, epochs=3, validation_data=validation_data)"
      ],
      "metadata": {
        "colab": {
          "base_uri": "https://localhost:8080/"
        },
        "id": "VvwAqx_Zbba9",
        "outputId": "59080f3d-6187-4fa4-b66b-c74fb1ce7f61"
      },
      "execution_count": 9,
      "outputs": [
        {
          "output_type": "stream",
          "name": "stdout",
          "text": [
            "Epoch 1/3\n",
            "22/22 [==============================] - 315s 14s/step - loss: 1.5472 - accuracy: 0.6512 - val_loss: 0.6752 - val_accuracy: 0.7151\n",
            "Epoch 2/3\n",
            "22/22 [==============================] - 266s 12s/step - loss: 0.6559 - accuracy: 0.7500 - val_loss: 0.6596 - val_accuracy: 0.6977\n",
            "Epoch 3/3\n",
            "22/22 [==============================] - 266s 12s/step - loss: 0.4865 - accuracy: 0.7936 - val_loss: 0.4314 - val_accuracy: 0.8256\n"
          ]
        }
      ]
    },
    {
      "cell_type": "code",
      "source": [
        "import matplotlib.pyplot as plt\n",
        "\n",
        "plt.plot(history.history['accuracy'],color='red',label='train')\n",
        "plt.plot(history.history['val_accuracy'],color='blue',label='validation')\n",
        "plt.legend()\n",
        "plt.show()"
      ],
      "metadata": {
        "colab": {
          "base_uri": "https://localhost:8080/",
          "height": 430
        },
        "id": "c9O6Br7lhTQb",
        "outputId": "fa4b115c-5232-4947-9e44-de920a5b76fd"
      },
      "execution_count": 10,
      "outputs": [
        {
          "output_type": "display_data",
          "data": {
            "text/plain": [
              "<Figure size 640x480 with 1 Axes>"
            ],
            "image/png": "[encoded data removed]"
          },
          "metadata": {}
        }
      ]
    },
    {
      "cell_type": "code",
      "source": [
        "plt.plot(history.history['loss'],color='red',label='train')\n",
        "plt.plot(history.history['val_loss'],color='blue',label='validation')\n",
        "plt.legend()\n",
        "plt.show()"
      ],
      "metadata": {
        "colab": {
          "base_uri": "https://localhost:8080/",
          "height": 434
        },
        "id": "n1TPasUmhX1w",
        "outputId": "a264727b-fe80-481c-a150-9964453238d2"
      },
      "execution_count": 11,
      "outputs": [
        {
          "output_type": "display_data",
          "data": {
            "text/plain": [
              "<Figure size 640x480 with 1 Axes>"
            ],
            "image/png": "[encoded data removed]"
          },
          "metadata": {}
        }
      ]
    },
    {
      "cell_type": "code",
      "source": [
        "test_datagen = ImageDataGenerator(rescale=1./255)\n",
        "test_data = test_datagen.flow_from_directory(\n",
        "    test_dir,\n",
        "    target_size=(256,256),\n",
        "    batch_size=32,\n",
        "    class_mode='binary'\n",
        ")"
      ],
      "metadata": {
        "colab": {
          "base_uri": "https://localhost:8080/"
        },
        "id": "Ij6-8xiShcwd",
        "outputId": "73d735a3-2044-44d9-c7de-71de9a4db91d"
      },
      "execution_count": 12,
      "outputs": [
        {
          "output_type": "stream",
          "name": "stdout",
          "text": [
            "Found 139 images belonging to 2 classes.\n"
          ]
        }
      ]
    },
    {
      "cell_type": "code",
      "source": [
        "#predict the test data\n",
        "predictions = resnet_model.predict(test_data)\n",
        "print(predictions)"
      ],
      "metadata": {
        "colab": {
          "base_uri": "https://localhost:8080/"
        },
        "id": "vOzqFdlehjPy",
        "outputId": "4e49205b-3e77-4162-eb31-407686246e79"
      },
      "execution_count": 13,
      "outputs": [
        {
          "output_type": "stream",
          "name": "stdout",
          "text": [
            "5/5 [==============================] - 46s 7s/step\n",
            "[[0.08956753]\n",
            " [0.05657223]\n",
            " [0.1807262 ]\n",
            " [0.05303673]\n",
            " [0.05740068]\n",
            " [0.11925934]\n",
            " [0.06074653]\n",
            " [0.03904726]\n",
            " [0.04826051]\n",
            " [0.00585729]\n",
            " [0.04237387]\n",
            " [0.27818626]\n",
            " [0.00865952]\n",
            " [0.07318333]\n",
            " [0.00644246]\n",
            " [0.02876044]\n",
            " [0.1770506 ]\n",
            " [0.0036491 ]\n",
            " [0.00837481]\n",
            " [0.04769544]\n",
            " [0.04502979]\n",
            " [0.02734097]\n",
            " [0.71088684]\n",
            " [0.36129412]\n",
            " [0.4766553 ]\n",
            " [0.02048693]\n",
            " [0.10073844]\n",
            " [0.03805304]\n",
            " [0.7291997 ]\n",
            " [0.59459645]\n",
            " [0.77320254]\n",
            " [0.08176448]\n",
            " [0.1380587 ]\n",
            " [0.03712327]\n",
            " [0.01563779]\n",
            " [0.06132293]\n",
            " [0.07017773]\n",
            " [0.11152897]\n",
            " [0.55728334]\n",
            " [0.03836252]\n",
            " [0.04669319]\n",
            " [0.02619711]\n",
            " [0.09418773]\n",
            " [0.02049344]\n",
            " [0.03853645]\n",
            " [0.0106304 ]\n",
            " [0.70869315]\n",
            " [0.08405383]\n",
            " [0.03634078]\n",
            " [0.5808872 ]\n",
            " [0.01821451]\n",
            " [0.01789735]\n",
            " [0.00801021]\n",
            " [0.25268465]\n",
            " [0.0320628 ]\n",
            " [0.02393676]\n",
            " [0.0877303 ]\n",
            " [0.02089086]\n",
            " [0.17993064]\n",
            " [0.02479246]\n",
            " [0.04013243]\n",
            " [0.03117112]\n",
            " [0.05349675]\n",
            " [0.0217763 ]\n",
            " [0.04185565]\n",
            " [0.16659953]\n",
            " [0.03425036]\n",
            " [0.03017133]\n",
            " [0.01309138]\n",
            " [0.06816142]\n",
            " [0.0183695 ]\n",
            " [0.02100454]\n",
            " [0.64726114]\n",
            " [0.05998192]\n",
            " [0.05253126]\n",
            " [0.01583883]\n",
            " [0.00501425]\n",
            " [0.02033788]\n",
            " [0.02215239]\n",
            " [0.03256876]\n",
            " [0.43744126]\n",
            " [0.01926001]\n",
            " [0.02436307]\n",
            " [0.03595483]\n",
            " [0.7663837 ]\n",
            " [0.0039341 ]\n",
            " [0.06692825]\n",
            " [0.03568196]\n",
            " [0.00730334]\n",
            " [0.10411497]\n",
            " [0.02056839]\n",
            " [0.21008854]\n",
            " [0.03623917]\n",
            " [0.02818207]\n",
            " [0.10459286]\n",
            " [0.8382381 ]\n",
            " [0.07903419]\n",
            " [0.02847337]\n",
            " [0.25703388]\n",
            " [0.72010195]\n",
            " [0.02705703]\n",
            " [0.01484404]\n",
            " [0.02716841]\n",
            " [0.06291526]\n",
            " [0.02221224]\n",
            " [0.03725536]\n",
            " [0.17597546]\n",
            " [0.5860082 ]\n",
            " [0.07597917]\n",
            " [0.01054621]\n",
            " [0.01795454]\n",
            " [0.87789315]\n",
            " [0.23885494]\n",
            " [0.04413306]\n",
            " [0.28407055]\n",
            " [0.06103443]\n",
            " [0.08910883]\n",
            " [0.01712862]\n",
            " [0.31457102]\n",
            " [0.00339829]\n",
            " [0.05587457]\n",
            " [0.56260914]\n",
            " [0.04849112]\n",
            " [0.07673532]\n",
            " [0.06795517]\n",
            " [0.35439414]\n",
            " [0.03917233]\n",
            " [0.03741404]\n",
            " [0.20945874]\n",
            " [0.02515474]\n",
            " [0.04642645]\n",
            " [0.02338112]\n",
            " [0.07257243]\n",
            " [0.03048163]\n",
            " [0.36284512]\n",
            " [0.08390149]\n",
            " [0.00632967]\n",
            " [0.27710405]\n",
            " [0.0291966 ]]\n"
          ]
        }
      ]
    },
    {
      "cell_type": "code",
      "source": [
        "len(predictions)\n"
      ],
      "metadata": {
        "colab": {
          "base_uri": "https://localhost:8080/"
        },
        "id": "ynpfEwwgiBuw",
        "outputId": "8dd2fc8a-df7a-4b99-a623-5b47d49e9792"
      },
      "execution_count": 14,
      "outputs": [
        {
          "output_type": "execute_result",
          "data": {
            "text/plain": [
              "139"
            ]
          },
          "metadata": {},
          "execution_count": 14
        }
      ]
    },
    {
      "cell_type": "code",
      "source": [
        "from sklearn.metrics import confusion_matrix, classification_report\n",
        "\n",
        "# Assuming you have ground truth labels (true_labels) and predicted labels (predictions)\n",
        "true_labels = test_data.classes\n",
        "predicted_labels = (predictions > 0.5).astype(int)  # Adjust the threshold as needed\n",
        "\n",
        "# Calculate confusion matrix\n",
        "cm = confusion_matrix(true_labels, predicted_labels)\n",
        "\n",
        "# Print confusion matrix\n",
        "print(\"Confusion Matrix:\")\n",
        "print(cm)\n",
        "\n",
        "# Print classification report\n",
        "print(\"Classification Report:\")\n",
        "print(classification_report(true_labels, predicted_labels))"
      ],
      "metadata": {
        "colab": {
          "base_uri": "https://localhost:8080/"
        },
        "id": "qRTBNsFuiMSR",
        "outputId": "00d8bdb7-2f05-46c4-c521-64ec2b675612"
      },
      "execution_count": 15,
      "outputs": [
        {
          "output_type": "stream",
          "name": "stdout",
          "text": [
            "Confusion Matrix:\n",
            "[[94 11]\n",
            " [31  3]]\n",
            "Classification Report:\n",
            "              precision    recall  f1-score   support\n",
            "\n",
            "           0       0.75      0.90      0.82       105\n",
            "           1       0.21      0.09      0.12        34\n",
            "\n",
            "    accuracy                           0.70       139\n",
            "   macro avg       0.48      0.49      0.47       139\n",
            "weighted avg       0.62      0.70      0.65       139\n",
            "\n"
          ]
        }
      ]
    }
  ]
}