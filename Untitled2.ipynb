{
  "nbformat": 4,
  "nbformat_minor": 0,
  "metadata": {
    "colab": {
      "provenance": [],
      "mount_file_id": "1z5B2zif_DKZq0I8KaM2kpxLDeiwemCsl",
      "authorship_tag": "ABX9TyPZ3+NpNJXURLZywYH8kiss",
      "include_colab_link": true
    },
    "kernelspec": {
      "name": "python3",
      "display_name": "Python 3"
    },
    "language_info": {
      "name": "python"
    }
  },
  "cells": [
    {
      "cell_type": "markdown",
      "metadata": {
        "id": "view-in-github",
        "colab_type": "text"
      },
      "source": [
        "<a href=\"https://colab.research.google.com/github/Rafa-qtn/200f20512/blob/main/Untitled2.ipynb\" target=\"_parent\"><img src=\"https://colab.research.google.com/assets/colab-badge.svg\" alt=\"Open In Colab\"/></a>"
      ]
    },
    {
      "cell_type": "code",
      "execution_count": 1,
      "metadata": {
        "colab": {
          "base_uri": "https://localhost:8080/"
        },
        "id": "dlU1Cb1YBlm2",
        "outputId": "7523c0a0-98cf-4d96-dd70-75e4614d16de"
      },
      "outputs": [
        {
          "output_type": "stream",
          "name": "stdout",
          "text": [
            "Mounted at /content/drive\n"
          ]
        }
      ],
      "source": [
        "#My dataset is available in googledrive; so I am accessing my drive from colab\n",
        "from google.colab import drive\n",
        "drive.mount('/content/drive', force_remount=True)\n",
        "#Once this is executed, you will see your drive appearing on the left hand side"
      ]
    },
    {
      "cell_type": "code",
      "source": [
        "# Define paths to the dataset\n",
        "train_dir = '/content/drive/MyDrive/R/archive/training_data'  # Update with your actual path\n",
        "test_dir = '/content/drive/MyDrive/R/archive/testing_data'    # Update with your actual path"
      ],
      "metadata": {
        "id": "diPiNV2iCX_q"
      },
      "execution_count": 2,
      "outputs": []
    },
    {
      "cell_type": "code",
      "source": [
        "import os\n",
        "print(len(os.listdir('/content/drive/MyDrive/R/archive/training_data/fire_images')))\n",
        "print(len(os.listdir('/content/drive/MyDrive/R/archive/training_data/non_fire_images')))\n",
        "print(len(os.listdir('/content/drive/MyDrive/R/archive/testing_data/fire_images')))\n",
        "print(len(os.listdir('/content/drive/MyDrive/R/archive/testing_data/non_fire_images')))"
      ],
      "metadata": {
        "colab": {
          "base_uri": "https://localhost:8080/"
        },
        "id": "gy18m_yVC3df",
        "outputId": "43b4dcfc-b831-4730-cea4-2baa827128d1"
      },
      "execution_count": 3,
      "outputs": [
        {
          "output_type": "stream",
          "name": "stdout",
          "text": [
            "548\n",
            "16\n",
            "105\n",
            "34\n"
          ]
        }
      ]
    },
    {
      "cell_type": "code",
      "source": [
        "import tensorflow as tf\n",
        "from tensorflow.keras.preprocessing.image import ImageDataGenerator\n",
        "\n",
        "# Create ImageDataGenerator for training set\n",
        "train_datagen = ImageDataGenerator(\n",
        "    rescale=1./255,\n",
        "    validation_split=0.2  # Split 20% of the images for validation\n",
        ")\n",
        "\n",
        "# Load and prepare training data\n",
        "train_data = train_datagen.flow_from_directory(\n",
        "    train_dir,\n",
        "    target_size=(256,256),\n",
        "    batch_size=32,\n",
        "    class_mode='binary',  # 'binary' for binary classification (cats vs. dogs)\n",
        "    subset='training'  # Specify 'training' for the training set\n",
        ")\n",
        "\n",
        "# Create ImageDataGenerator for validation set\n",
        "validation_datagen = ImageDataGenerator(\n",
        "    rescale=1./255,\n",
        "    validation_split=0.2  # Note: Using the same validation split as in the training set\n",
        ")\n",
        "\n",
        "# Load and prepare validation data\n",
        "validation_data = validation_datagen.flow_from_directory(\n",
        "    train_dir,\n",
        "    target_size=(256,256),\n",
        "    batch_size=32,\n",
        "    class_mode='binary',\n",
        "    subset='validation'  # Specify 'validation' for the validation set\n",
        ")"
      ],
      "metadata": {
        "colab": {
          "base_uri": "https://localhost:8080/"
        },
        "id": "eNnSRUyIDY7D",
        "outputId": "0b256887-3f87-44f2-ab70-f724ae388d72"
      },
      "execution_count": 4,
      "outputs": [
        {
          "output_type": "stream",
          "name": "stdout",
          "text": [
            "Found 527 images belonging to 2 classes.\n",
            "Found 131 images belonging to 2 classes.\n"
          ]
        }
      ]
    },
    {
      "cell_type": "code",
      "source": [
        "from tensorflow import keras\n",
        "from keras import Sequential\n",
        "from keras.layers import Dense,Conv2D,MaxPooling2D,Flatten,BatchNormalization,UpSampling2D, Dropout"
      ],
      "metadata": {
        "id": "WeqL2-2EDhUR"
      },
      "execution_count": 5,
      "outputs": []
    },
    {
      "cell_type": "code",
      "source": [
        "# create CNN model\n",
        "\n",
        "model = Sequential()\n",
        "\n",
        "model.add(Conv2D(32,kernel_size=(3,3),padding='valid',activation='relu',input_shape=(256,256,3)))  # 32 filters\n",
        "#model.add(BatchNormalization())  # added to reduce overfitting\n",
        "model.add(MaxPooling2D(pool_size=(2,2),strides=2,padding='valid'))\n",
        "\n",
        "model.add(Conv2D(64,kernel_size=(3,3),padding='valid',activation='relu'))\n",
        "#model.add(BatchNormalization())  # added to reduce overfitting\n",
        "model.add(MaxPooling2D(pool_size=(2,2),strides=2,padding='valid'))\n",
        "\n",
        "model.add(Conv2D(128,kernel_size=(3,3),padding='valid',activation='relu'))\n",
        "#model.add(BatchNormalization())  # added to reduce overfitting\n",
        "model.add(MaxPooling2D(pool_size=(2,2),strides=2,padding='valid'))\n",
        "\n",
        "model.add(Flatten())\n",
        "\n",
        "model.add(Dense(128,activation='relu')) #feature reduction\n",
        "#model.add(Dropout(0.1))  # added to reduce overfitting\n",
        "model.add(Dense(64,activation='relu'))\n",
        "#model.add(Dropout(0.1))  # added to reduce overfitting\n",
        "model.add(Dense(1,activation='sigmoid'))  #output layer"
      ],
      "metadata": {
        "id": "ngh5flpWDoHg"
      },
      "execution_count": 6,
      "outputs": []
    },
    {
      "cell_type": "code",
      "source": [
        "from keras.optimizers import Adam\n",
        "model.compile(optimizer=Adam(learning_rate=0.001),loss='binary_crossentropy',metrics=['accuracy']) #binary_crossentropy - binary classification"
      ],
      "metadata": {
        "id": "dCmW3ASbDvkh"
      },
      "execution_count": 7,
      "outputs": []
    },
    {
      "cell_type": "code",
      "source": [
        "history = model.fit(train_data, epochs=30, validation_data=validation_data)"
      ],
      "metadata": {
        "colab": {
          "base_uri": "https://localhost:8080/"
        },
        "id": "rE_-_Wi7D1x7",
        "outputId": "dc4c2844-9743-4c8b-8ef9-1d42ac60d4f3"
      },
      "execution_count": 8,
      "outputs": [
        {
          "output_type": "stream",
          "name": "stdout",
          "text": [
            "Epoch 1/30\n",
            "17/17 [==============================] - 319s 19s/step - loss: 0.2560 - accuracy: 0.9146 - val_loss: 0.0797 - val_accuracy: 0.9618\n",
            "Epoch 2/30\n",
            "17/17 [==============================] - 95s 6s/step - loss: 0.0692 - accuracy: 0.9810 - val_loss: 0.0801 - val_accuracy: 0.9847\n",
            "Epoch 3/30\n",
            "17/17 [==============================] - 96s 6s/step - loss: 0.0974 - accuracy: 0.9715 - val_loss: 0.1022 - val_accuracy: 0.9695\n",
            "Epoch 4/30\n",
            "17/17 [==============================] - 108s 6s/step - loss: 0.0552 - accuracy: 0.9829 - val_loss: 0.0548 - val_accuracy: 0.9771\n",
            "Epoch 5/30\n",
            "17/17 [==============================] - 99s 6s/step - loss: 0.0378 - accuracy: 0.9905 - val_loss: 0.0880 - val_accuracy: 0.9847\n",
            "Epoch 6/30\n",
            "17/17 [==============================] - 98s 6s/step - loss: 0.0158 - accuracy: 0.9962 - val_loss: 0.0517 - val_accuracy: 0.9695\n",
            "Epoch 7/30\n",
            "17/17 [==============================] - 100s 6s/step - loss: 0.0054 - accuracy: 0.9981 - val_loss: 0.0687 - val_accuracy: 0.9695\n",
            "Epoch 8/30\n",
            "17/17 [==============================] - 95s 5s/step - loss: 0.0010 - accuracy: 1.0000 - val_loss: 0.0826 - val_accuracy: 0.9695\n",
            "Epoch 9/30\n",
            "17/17 [==============================] - 111s 6s/step - loss: 2.5985e-04 - accuracy: 1.0000 - val_loss: 0.1032 - val_accuracy: 0.9695\n",
            "Epoch 10/30\n",
            "17/17 [==============================] - 100s 6s/step - loss: 9.9487e-05 - accuracy: 1.0000 - val_loss: 0.1221 - val_accuracy: 0.9695\n",
            "Epoch 11/30\n",
            "17/17 [==============================] - 94s 5s/step - loss: 2.2240e-05 - accuracy: 1.0000 - val_loss: 0.1410 - val_accuracy: 0.9695\n",
            "Epoch 12/30\n",
            "17/17 [==============================] - 99s 6s/step - loss: 1.4298e-05 - accuracy: 1.0000 - val_loss: 0.1536 - val_accuracy: 0.9695\n",
            "Epoch 13/30\n",
            "17/17 [==============================] - 96s 6s/step - loss: 6.5000e-06 - accuracy: 1.0000 - val_loss: 0.1667 - val_accuracy: 0.9695\n",
            "Epoch 14/30\n",
            "17/17 [==============================] - 105s 6s/step - loss: 4.6636e-06 - accuracy: 1.0000 - val_loss: 0.1765 - val_accuracy: 0.9695\n",
            "Epoch 15/30\n",
            "17/17 [==============================] - 98s 6s/step - loss: 3.0633e-06 - accuracy: 1.0000 - val_loss: 0.1792 - val_accuracy: 0.9695\n",
            "Epoch 16/30\n",
            "17/17 [==============================] - 94s 6s/step - loss: 2.1899e-06 - accuracy: 1.0000 - val_loss: 0.1844 - val_accuracy: 0.9695\n",
            "Epoch 17/30\n",
            "17/17 [==============================] - 97s 6s/step - loss: 1.8322e-06 - accuracy: 1.0000 - val_loss: 0.1868 - val_accuracy: 0.9695\n",
            "Epoch 18/30\n",
            "17/17 [==============================] - 99s 6s/step - loss: 1.5498e-06 - accuracy: 1.0000 - val_loss: 0.1899 - val_accuracy: 0.9695\n",
            "Epoch 19/30\n",
            "17/17 [==============================] - 117s 7s/step - loss: 1.2126e-06 - accuracy: 1.0000 - val_loss: 0.1925 - val_accuracy: 0.9695\n",
            "Epoch 20/30\n",
            "17/17 [==============================] - 98s 6s/step - loss: 1.1668e-06 - accuracy: 1.0000 - val_loss: 0.1945 - val_accuracy: 0.9695\n",
            "Epoch 21/30\n",
            "17/17 [==============================] - 98s 6s/step - loss: 9.3367e-07 - accuracy: 1.0000 - val_loss: 0.1962 - val_accuracy: 0.9695\n",
            "Epoch 22/30\n",
            "17/17 [==============================] - 97s 6s/step - loss: 9.5781e-07 - accuracy: 1.0000 - val_loss: 0.1980 - val_accuracy: 0.9695\n",
            "Epoch 23/30\n",
            "17/17 [==============================] - 97s 6s/step - loss: 7.7142e-07 - accuracy: 1.0000 - val_loss: 0.1997 - val_accuracy: 0.9695\n",
            "Epoch 24/30\n",
            "17/17 [==============================] - 110s 6s/step - loss: 7.0746e-07 - accuracy: 1.0000 - val_loss: 0.2007 - val_accuracy: 0.9695\n",
            "Epoch 25/30\n",
            "17/17 [==============================] - 99s 6s/step - loss: 6.3529e-07 - accuracy: 1.0000 - val_loss: 0.2019 - val_accuracy: 0.9695\n",
            "Epoch 26/30\n",
            "17/17 [==============================] - 95s 5s/step - loss: 6.0365e-07 - accuracy: 1.0000 - val_loss: 0.2034 - val_accuracy: 0.9695\n",
            "Epoch 27/30\n",
            "17/17 [==============================] - 100s 6s/step - loss: 6.7612e-07 - accuracy: 1.0000 - val_loss: 0.2046 - val_accuracy: 0.9695\n",
            "Epoch 28/30\n",
            "17/17 [==============================] - 95s 6s/step - loss: 5.2149e-07 - accuracy: 1.0000 - val_loss: 0.2058 - val_accuracy: 0.9695\n",
            "Epoch 29/30\n",
            "17/17 [==============================] - 110s 6s/step - loss: 4.8572e-07 - accuracy: 1.0000 - val_loss: 0.2071 - val_accuracy: 0.9695\n",
            "Epoch 30/30\n",
            "17/17 [==============================] - 98s 6s/step - loss: 4.6647e-07 - accuracy: 1.0000 - val_loss: 0.2079 - val_accuracy: 0.9695\n"
          ]
        }
      ]
    },
    {
      "cell_type": "code",
      "source": [
        "import matplotlib.pyplot as plt\n",
        "\n",
        "plt.plot(history.history['accuracy'],color='red',label='train')\n",
        "plt.plot(history.history['val_accuracy'],color='blue',label='validation')\n",
        "plt.legend()\n",
        "plt.show()"
      ],
      "metadata": {
        "colab": {
          "base_uri": "https://localhost:8080/",
          "height": 430
        },
        "id": "6NOPnGzlgbip",
        "outputId": "0db52b8e-d503-4b0a-bcfa-b9ee826f7483"
      },
      "execution_count": 9,
      "outputs": [
        {
          "output_type": "display_data",
          "data": {
            "text/plain": [
              "<Figure size 640x480 with 1 Axes>"
            ],
            "image/png": "[encoded data removed]"
          },
          "metadata": {}
        }
      ]
    },
    {
      "cell_type": "code",
      "source": [
        "plt.plot(history.history['loss'],color='red',label='train')\n",
        "plt.plot(history.history['val_loss'],color='blue',label='validation')\n",
        "plt.legend()\n",
        "plt.show()\n"
      ],
      "metadata": {
        "colab": {
          "base_uri": "https://localhost:8080/",
          "height": 430
        },
        "id": "ch2Bs10ogqZk",
        "outputId": "99bf9572-7ed6-4349-a5ea-37b7976d5b6a"
      },
      "execution_count": 10,
      "outputs": [
        {
          "output_type": "display_data",
          "data": {
            "text/plain": [
              "<Figure size 640x480 with 1 Axes>"
            ],
            "image/png": "[encoded data removed]"
          },
          "metadata": {}
        }
      ]
    },
    {
      "cell_type": "code",
      "source": [
        "test_datagen = ImageDataGenerator(rescale=1./255)\n",
        "test_data = test_datagen.flow_from_directory(\n",
        "    test_dir,\n",
        "    target_size=(256,256),\n",
        "    batch_size=32,\n",
        "    class_mode='binary'\n",
        ")"
      ],
      "metadata": {
        "colab": {
          "base_uri": "https://localhost:8080/"
        },
        "id": "mtU6HyfOhZ0W",
        "outputId": "aa08f287-e0ed-4f31-af87-6290e99c2a98"
      },
      "execution_count": 11,
      "outputs": [
        {
          "output_type": "stream",
          "name": "stdout",
          "text": [
            "Found 139 images belonging to 2 classes.\n"
          ]
        }
      ]
    },
    {
      "cell_type": "code",
      "source": [
        "#predict the test data\n",
        "predictions = model.predict(test_data)\n",
        "print(predictions)"
      ],
      "metadata": {
        "colab": {
          "base_uri": "https://localhost:8080/"
        },
        "id": "CeMe2z8QheRx",
        "outputId": "3ef76570-4699-48d1-8eec-234be2202663"
      },
      "execution_count": 12,
      "outputs": [
        {
          "output_type": "stream",
          "name": "stdout",
          "text": [
            "5/5 [==============================] - 18s 4s/step\n",
            "[[1.38387687e-25]\n",
            " [1.83458881e-35]\n",
            " [1.00000000e+00]\n",
            " [0.00000000e+00]\n",
            " [1.00000000e+00]\n",
            " [2.49426724e-09]\n",
            " [9.12185530e-17]\n",
            " [5.68440473e-26]\n",
            " [6.70479104e-19]\n",
            " [1.91594359e-06]\n",
            " [4.57216075e-36]\n",
            " [8.70967862e-14]\n",
            " [9.99985516e-01]\n",
            " [0.00000000e+00]\n",
            " [3.93867232e-08]\n",
            " [0.00000000e+00]\n",
            " [9.70088422e-01]\n",
            " [0.00000000e+00]\n",
            " [1.19171679e-17]\n",
            " [0.00000000e+00]\n",
            " [1.08051808e-33]\n",
            " [4.77500635e-06]\n",
            " [1.73967748e-22]\n",
            " [9.98065889e-01]\n",
            " [3.35098100e-08]\n",
            " [1.00000000e+00]\n",
            " [1.00000000e+00]\n",
            " [9.79743286e-10]\n",
            " [0.00000000e+00]\n",
            " [0.00000000e+00]\n",
            " [9.99982893e-01]\n",
            " [0.00000000e+00]\n",
            " [8.26216520e-15]\n",
            " [1.00000000e+00]\n",
            " [7.44190395e-01]\n",
            " [2.01692761e-13]\n",
            " [3.94889475e-23]\n",
            " [9.92289722e-01]\n",
            " [2.05792100e-20]\n",
            " [0.00000000e+00]\n",
            " [1.00000000e+00]\n",
            " [1.50686579e-27]\n",
            " [1.00000000e+00]\n",
            " [5.29199027e-16]\n",
            " [5.49414292e-10]\n",
            " [0.00000000e+00]\n",
            " [2.63680945e-31]\n",
            " [8.30225559e-08]\n",
            " [1.49156364e-17]\n",
            " [8.50333443e-35]\n",
            " [0.00000000e+00]\n",
            " [3.83861685e-22]\n",
            " [2.55760917e-20]\n",
            " [9.99850810e-01]\n",
            " [3.25098620e-31]\n",
            " [6.53713021e-12]\n",
            " [3.03537975e-22]\n",
            " [2.08241202e-10]\n",
            " [4.50177554e-28]\n",
            " [7.74463260e-05]\n",
            " [0.00000000e+00]\n",
            " [0.00000000e+00]\n",
            " [1.88463611e-13]\n",
            " [1.41196855e-32]\n",
            " [4.77992743e-01]\n",
            " [7.78649640e-30]\n",
            " [3.00370084e-09]\n",
            " [9.44430172e-01]\n",
            " [9.96500909e-01]\n",
            " [1.49626416e-07]\n",
            " [1.78991865e-27]\n",
            " [2.06844949e-37]\n",
            " [3.07149231e-03]\n",
            " [1.00000000e+00]\n",
            " [1.91159798e-19]\n",
            " [2.01226924e-14]\n",
            " [0.00000000e+00]\n",
            " [4.12440637e-14]\n",
            " [4.07911459e-15]\n",
            " [1.00000000e+00]\n",
            " [1.10529202e-14]\n",
            " [1.55063489e-13]\n",
            " [7.95182432e-32]\n",
            " [5.22870600e-29]\n",
            " [2.58390438e-32]\n",
            " [8.03553645e-15]\n",
            " [1.00000000e+00]\n",
            " [1.89864764e-07]\n",
            " [6.44800334e-28]\n",
            " [1.24861755e-25]\n",
            " [9.27997189e-32]\n",
            " [1.66175378e-05]\n",
            " [5.52240770e-20]\n",
            " [0.00000000e+00]\n",
            " [5.49914136e-26]\n",
            " [9.99999881e-01]\n",
            " [1.43644881e-32]\n",
            " [4.83405094e-09]\n",
            " [4.30831744e-04]\n",
            " [4.38426927e-16]\n",
            " [5.97332473e-07]\n",
            " [1.36571531e-18]\n",
            " [9.47040036e-33]\n",
            " [3.20733468e-10]\n",
            " [2.39747737e-36]\n",
            " [1.00000000e+00]\n",
            " [1.14983935e-14]\n",
            " [3.41147370e-06]\n",
            " [2.18806509e-02]\n",
            " [7.79280231e-21]\n",
            " [0.00000000e+00]\n",
            " [7.00650575e-21]\n",
            " [0.00000000e+00]\n",
            " [1.00000000e+00]\n",
            " [4.00272723e-27]\n",
            " [1.00000000e+00]\n",
            " [0.00000000e+00]\n",
            " [1.35627940e-14]\n",
            " [7.56291304e-26]\n",
            " [1.14633247e-06]\n",
            " [3.68325840e-13]\n",
            " [1.84534986e-19]\n",
            " [1.00000000e+00]\n",
            " [1.20336949e-07]\n",
            " [4.43079876e-28]\n",
            " [6.85463649e-14]\n",
            " [4.11386629e-31]\n",
            " [3.48491561e-37]\n",
            " [7.26221866e-22]\n",
            " [8.75025392e-01]\n",
            " [1.60735574e-11]\n",
            " [1.00000000e+00]\n",
            " [1.00000000e+00]\n",
            " [1.53005076e-22]\n",
            " [3.54452438e-37]\n",
            " [4.65220503e-24]\n",
            " [5.17826590e-30]\n",
            " [1.00000000e+00]\n",
            " [1.69532334e-31]]\n"
          ]
        }
      ]
    },
    {
      "cell_type": "code",
      "source": [
        "len(predictions)"
      ],
      "metadata": {
        "colab": {
          "base_uri": "https://localhost:8080/"
        },
        "id": "fhCEzARarKmG",
        "outputId": "3f8bf8f6-7535-4f7d-c3fc-ac7a822c8706"
      },
      "execution_count": 13,
      "outputs": [
        {
          "output_type": "execute_result",
          "data": {
            "text/plain": [
              "139"
            ]
          },
          "metadata": {},
          "execution_count": 13
        }
      ]
    },
    {
      "cell_type": "code",
      "source": [
        "from sklearn.metrics import confusion_matrix, classification_report\n",
        "\n",
        "# Assuming you have ground truth labels (true_labels) and predicted labels (predictions)\n",
        "true_labels = test_data.classes\n",
        "predicted_labels = (predictions > 0.5).astype(int)  # Adjust the threshold as needed\n",
        "\n",
        "# Calculate confusion matrix\n",
        "cm = confusion_matrix(true_labels, predicted_labels)\n",
        "\n",
        "# Print confusion matrix\n",
        "print(\"Confusion Matrix:\")\n",
        "print(cm)\n",
        "\n",
        "# Print classification report\n",
        "print(\"Classification Report:\")\n",
        "print(classification_report(true_labels, predicted_labels))"
      ],
      "metadata": {
        "colab": {
          "base_uri": "https://localhost:8080/"
        },
        "id": "C05ALLYCrQVv",
        "outputId": "dcad5d62-b2a1-4f81-84af-d029ea6d0b42"
      },
      "execution_count": 14,
      "outputs": [
        {
          "output_type": "stream",
          "name": "stdout",
          "text": [
            "Confusion Matrix:\n",
            "[[85 20]\n",
            " [26  8]]\n",
            "Classification Report:\n",
            "              precision    recall  f1-score   support\n",
            "\n",
            "           0       0.77      0.81      0.79       105\n",
            "           1       0.29      0.24      0.26        34\n",
            "\n",
            "    accuracy                           0.67       139\n",
            "   macro avg       0.53      0.52      0.52       139\n",
            "weighted avg       0.65      0.67      0.66       139\n",
            "\n"
          ]
        }
      ]
    }
  ]
}